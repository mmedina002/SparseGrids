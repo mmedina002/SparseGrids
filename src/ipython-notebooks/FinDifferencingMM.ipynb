{
 "cells": [
  {
   "cell_type": "code",
   "execution_count": 1,
   "metadata": {},
   "outputs": [],
   "source": [
    "using PyPlot"
   ]
  },
  {
   "cell_type": "markdown",
   "metadata": {},
   "source": [
    "CONSTANTS - Create a Type"
   ]
  },
  {
   "cell_type": "markdown",
   "metadata": {},
   "source": [
    "N = # of Points ; L = Domain Size"
   ]
  },
  {
   "cell_type": "code",
   "execution_count": 15,
   "metadata": {},
   "outputs": [],
   "source": [
    "struct Params\n",
    "#structure contains # of points N and Domain Spice L\n",
    "    N::Int\n",
    "    L::Float64\n",
    "end"
   ]
  },
  {
   "cell_type": "code",
   "execution_count": 3,
   "metadata": {},
   "outputs": [
    {
     "data": {
      "text/plain": [
       "Params(101, 1.0)"
      ]
     },
     "execution_count": 3,
     "metadata": {},
     "output_type": "execute_result"
    }
   ],
   "source": [
    "p=Params(101,1.0)"
   ]
  },
  {
   "cell_type": "code",
   "execution_count": 4,
   "metadata": {},
   "outputs": [],
   "source": [
    "struct Params2D\n",
    "    #contains number of points Nx and Ny and the length of the \n",
    "    #2D grid Lx and Ly\n",
    "    Nx::Int\n",
    "    Ny::Int\n",
    "    Lx::Float64\n",
    "    Ly::Float64\n",
    "end"
   ]
  },
  {
   "cell_type": "markdown",
   "metadata": {},
   "source": [
    "Defining the Grid Space"
   ]
  },
  {
   "cell_type": "code",
   "execution_count": 5,
   "metadata": {},
   "outputs": [
    {
     "data": {
      "text/plain": [
       "dX (generic function with 1 method)"
      ]
     },
     "execution_count": 5,
     "metadata": {},
     "output_type": "execute_result"
    }
   ],
   "source": [
    "function dX(grid::Params)\n",
    "    #computing grid space h\n",
    "    return (grid.L/(grid.N-1))\n",
    "end"
   ]
  },
  {
   "cell_type": "code",
   "execution_count": 6,
   "metadata": {},
   "outputs": [
    {
     "data": {
      "text/plain": [
       "dX_2D (generic function with 1 method)"
      ]
     },
     "execution_count": 6,
     "metadata": {},
     "output_type": "execute_result"
    }
   ],
   "source": [
    "function dX_2D(grid::Params2D)\n",
    "    #computes grid space hx\n",
    "    return (grid.Lx/grid.Nx-1)\n",
    "end"
   ]
  },
  {
   "cell_type": "code",
   "execution_count": 7,
   "metadata": {},
   "outputs": [
    {
     "data": {
      "text/plain": [
       "dY_2D (generic function with 1 method)"
      ]
     },
     "execution_count": 7,
     "metadata": {},
     "output_type": "execute_result"
    }
   ],
   "source": [
    "function dY_2D(grid::Params2D)\n",
    "    #computes grid space hy\n",
    "    return (grid.Ly/grid.Ny-1)\n",
    "end"
   ]
  },
  {
   "cell_type": "code",
   "execution_count": 8,
   "metadata": {},
   "outputs": [
    {
     "data": {
      "text/plain": [
       "0.01"
      ]
     },
     "execution_count": 8,
     "metadata": {},
     "output_type": "execute_result"
    }
   ],
   "source": [
    "dX(p)"
   ]
  },
  {
   "cell_type": "markdown",
   "metadata": {},
   "source": [
    "FUNCTION THAT CONSTRUCTS 1D FUNCTION"
   ]
  },
  {
   "cell_type": "code",
   "execution_count": 9,
   "metadata": {},
   "outputs": [
    {
     "data": {
      "text/plain": [
       "functionOn_1DGrid (generic function with 1 method)"
      ]
     },
     "execution_count": 9,
     "metadata": {},
     "output_type": "execute_result"
    }
   ],
   "source": [
    "function functionOn_1DGrid(u::Function, grid::Params)::Array{Float64,1}\n",
    "    #1D Function is computed on the grid\n",
    "    ux=zeros(grid.N)\n",
    "    h=dX(grid)\n",
    "    for i in 1:grid.N\n",
    "        x=(i-1)*h\n",
    "        ux[i]=u(x)\n",
    "    end\n",
    "    return ux\n",
    "end"
   ]
  },
  {
   "cell_type": "markdown",
   "metadata": {},
   "source": [
    "USING THE SAME NAME FOR EFFICIENCY - apparently Julia allows this"
   ]
  },
  {
   "cell_type": "code",
   "execution_count": 16,
   "metadata": {},
   "outputs": [
    {
     "data": {
      "text/plain": [
       "functionOnGrid (generic function with 2 methods)"
      ]
     },
     "execution_count": 16,
     "metadata": {},
     "output_type": "execute_result"
    }
   ],
   "source": [
    "function functionOnGrid(u::Function, grid::Params)::Array{Float64,1}\n",
    "    #1D Function is computed on the grid\n",
    "    ux=zeros(grid.N)\n",
    "    h=dX(grid)\n",
    "    for i in 1:grid.N\n",
    "        x=(i-1)*h\n",
    "        ux[i]=u(x)\n",
    "    end\n",
    "    return ux\n",
    "end"
   ]
  },
  {
   "cell_type": "code",
   "execution_count": 17,
   "metadata": {},
   "outputs": [
    {
     "data": {
      "text/plain": [
       "functionOnGrid (generic function with 2 methods)"
      ]
     },
     "execution_count": 17,
     "metadata": {},
     "output_type": "execute_result"
    }
   ],
   "source": [
    "function functionOnGrid(u::Function, grid::Params2D)::Array{Float64,2}\n",
    "    uxy=zeros(grid.Nx,grid.Ny)\n",
    "    hx=dX_2D(grid)\n",
    "    hy=dY_2D(grid)\n",
    "    for i in 1:grid.Nx, j in 1:grid.Ny\n",
    "        x = (i-1)*hx\n",
    "        y= (j-1)*hy\n",
    "        uxy[i,j]=u(x,y)\n",
    "    end\n",
    "    return uxy\n",
    "end "
   ]
  },
  {
   "cell_type": "code",
   "execution_count": 18,
   "metadata": {},
   "outputs": [],
   "source": [
    "x = functionOn_1DGrid(x->x,Params(100,2));\n",
    "#101 points and identity map gives the coordinates"
   ]
  },
  {
   "cell_type": "code",
   "execution_count": 19,
   "metadata": {},
   "outputs": [],
   "source": [
    "sinx=functionOn_1DGrid(x->sin(pi*x),Params(100,2));"
   ]
  },
  {
   "cell_type": "code",
   "execution_count": 20,
   "metadata": {},
   "outputs": [
    {
     "data": {
      "image/png": "[encoded data removed]",
      "text/plain": [
       "Figure(PyObject <Figure size 640x480 with 1 Axes>)"
      ]
     },
     "metadata": {},
     "output_type": "display_data"
    },
    {
     "data": {
      "text/plain": [
       "1-element Array{PyCall.PyObject,1}:\n",
       " PyObject <matplotlib.lines.Line2D object at 0x148338910>"
      ]
     },
     "execution_count": 20,
     "metadata": {},
     "output_type": "execute_result"
    }
   ],
   "source": [
    "plot(x,sinx)"
   ]
  },
  {
   "cell_type": "code",
   "execution_count": 21,
   "metadata": {},
   "outputs": [
    {
     "data": {
      "text/plain": [
       "Deriv1D (generic function with 1 method)"
      ]
     },
     "execution_count": 21,
     "metadata": {},
     "output_type": "execute_result"
    }
   ],
   "source": [
    "function Deriv1D(u::Array{Float64,1},grid::Params)::Array{Float64}\n",
    "    #Derivative of a function is computed on a 1D grid\n",
    "    dudx = zeros(grid.N)\n",
    "    h = dX(grid)\n",
    "    for i in 1:grid.N\n",
    "        if i == 1\n",
    "            dudx[i] = (u[i+1] - u[i])/h\n",
    "        elseif i == grid.N\n",
    "            dudx[i] = (u[i]-u[i-1])/h\n",
    "        else\n",
    "            dudx[i] = (u[i+1]-u[i-1])/2h\n",
    "        end\n",
    "    end\n",
    "    return dudx\n",
    "end\n",
    "    "
   ]
  },
  {
   "cell_type": "markdown",
   "metadata": {},
   "source": [
    "1D Convergence Test"
   ]
  },
  {
   "cell_type": "code",
   "execution_count": 22,
   "metadata": {},
   "outputs": [
    {
     "data": {
      "image/png": "[encoded data removed]",
      "text/plain": [
       "Figure(PyObject <Figure size 640x480 with 1 Axes>)"
      ]
     },
     "metadata": {},
     "output_type": "display_data"
    }
   ],
   "source": [
    "H = []\n",
    "E = []\n",
    "\n",
    "for N in 50:200\n",
    "    grid = Params(N,4)\n",
    "    u = functionOn_1DGrid(x->sin(x),grid)\n",
    "    dUdx = functionOn_1DGrid(x->cos(x),grid) #known derivative of sin(x)\n",
    "    \n",
    "    #L infinity norm: difference between the numerical derivative and\n",
    "    #the analytical one, while taking the maximum of it's abs. value\n",
    "    error = maximum(abs.(Deriv1D(u,grid) - dUdx))\n",
    "    \n",
    "    h = dX(grid)\n",
    "    #append h to the array H and error to the array E\n",
    "    append!(H,h) \n",
    "    append!(E,error)\n",
    "    \n",
    "end\n",
    "\n",
    "loglog(H,E,\"r-\") #plotting error vs h\n",
    "loglog(H,H,\"g--\",label=\"1\") #first order convergence\n",
    "loglog(H,H.^2,\"b--\",label=\"2\") #second order convergence\n",
    "xlabel(\"h\")\n",
    "ylabel(\"L Infinity Norm\")\n",
    "legend(loc=\"best\",frameon=false)\n",
    "show()"
   ]
  },
  {
   "cell_type": "code",
   "execution_count": 23,
   "metadata": {},
   "outputs": [
    {
     "data": {
      "text/plain": [
       "functionOn_2DGrid (generic function with 1 method)"
      ]
     },
     "execution_count": 23,
     "metadata": {},
     "output_type": "execute_result"
    }
   ],
   "source": [
    "function functionOn_2DGrid(u::Function, Nx::Int, Ny::Int)::Array{Float64,2}\n",
    "    uxy = zeros(Nx,Ny)\n",
    "    hx = 2/(Nx-1)\n",
    "    hy = 2/(Ny-1)\n",
    "    for i in 1:Nx,j in 1:Ny\n",
    "        x = -1 + (i-1)*hx\n",
    "        y = -1 + (j-1)*hy\n",
    "        uxy[i,j] = u(x,y)\n",
    "    end\n",
    "    return uxy\n",
    "end"
   ]
  },
  {
   "cell_type": "code",
   "execution_count": 24,
   "metadata": {},
   "outputs": [],
   "source": [
    "sinxcosy = functionOn_2DGrid((x,y)->sin(x)*cos(y),100,200);"
   ]
  },
  {
   "cell_type": "code",
   "execution_count": 25,
   "metadata": {},
   "outputs": [
    {
     "data": {
      "image/png": "[encoded data removed]",
      "text/plain": [
       "Figure(PyObject <Figure size 640x480 with 2 Axes>)"
      ]
     },
     "metadata": {},
     "output_type": "display_data"
    },
    {
     "data": {
      "text/plain": [
       "PyObject <matplotlib.colorbar.Colorbar object at 0x148d58dd0>"
      ]
     },
     "execution_count": 25,
     "metadata": {},
     "output_type": "execute_result"
    }
   ],
   "source": [
    "contourf(sinxcosy)\n",
    "colorbar()"
   ]
  },
  {
   "cell_type": "code",
   "execution_count": 26,
   "metadata": {},
   "outputs": [],
   "source": [
    "x2y2= functionOn_2DGrid((x,y)->x^2+y^2,100,100);"
   ]
  },
  {
   "cell_type": "code",
   "execution_count": 27,
   "metadata": {},
   "outputs": [
    {
     "data": {
      "image/png": "[encoded data removed]",
      "text/plain": [
       "Figure(PyObject <Figure size 640x480 with 2 Axes>)"
      ]
     },
     "metadata": {},
     "output_type": "display_data"
    },
    {
     "data": {
      "text/plain": [
       "PyObject <matplotlib.colorbar.Colorbar object at 0x148b62790>"
      ]
     },
     "execution_count": 27,
     "metadata": {},
     "output_type": "execute_result"
    }
   ],
   "source": [
    "contourf(x2y2)\n",
    "colorbar()"
   ]
  },
  {
   "cell_type": "code",
   "execution_count": 28,
   "metadata": {},
   "outputs": [
    {
     "data": {
      "text/plain": [
       "Array{Float64,2}"
      ]
     },
     "execution_count": 28,
     "metadata": {},
     "output_type": "execute_result"
    }
   ],
   "source": [
    "typeof(sinxcosy)"
   ]
  },
  {
   "cell_type": "code",
   "execution_count": 36,
   "metadata": {},
   "outputs": [
    {
     "data": {
      "text/plain": [
       "DerivX_2D (generic function with 1 method)"
      ]
     },
     "execution_count": 36,
     "metadata": {},
     "output_type": "execute_result"
    }
   ],
   "source": [
    "function DerivX_2D(u::Array{Float64,2}, grid::Params2D)::Array{Float64}\n",
    "    dudx= zeros(gird.Nx,grid.Ny)\n",
    "    hx = dX_2D(grid)\n",
    "\n",
    "    for i in 1:grid.Nx, j in 1:grid.Ny\n",
    "        if i==1\n",
    "            dudx[i] = (u[i+1,j] - u[i,j])/hx\n",
    "        elseif i==grid.Nx\n",
    "            dudx[i] = (u[i,j] - u[i-1,j])/hx\n",
    "        else\n",
    "            dudx[i] = (u[i+1,j]-u[i-1,j])/2hx\n",
    "        end\n",
    "    end\n",
    "    return dudx\n",
    "end"
   ]
  },
  {
   "cell_type": "code",
   "execution_count": 34,
   "metadata": {},
   "outputs": [
    {
     "data": {
      "text/plain": [
       "DerivY_2D (generic function with 1 method)"
      ]
     },
     "execution_count": 34,
     "metadata": {},
     "output_type": "execute_result"
    }
   ],
   "source": [
    "function DerivY_2D(u::Array{Float64,2},grid::Params2D)::Array{Float64}\n",
    "    dudy= zeros(grid.Nx,grid.Ny)\n",
    "    hy = dY_2D(grid)\n",
    "\n",
    "    for i in 1:grid.Nx, j in 1:grid.Ny\n",
    "        if j == 1\n",
    "            dudy[j] = (u[i,j+1] - u[i,j])/hy\n",
    "        elseif j== grid.Ny\n",
    "            dudy[j] = (u[i,j]-u[i,j-1])/hy\n",
    "        else\n",
    "            dudy[j] = (u[i,j+1]-u[i,j-1])/2hy\n",
    "        end\n",
    "    end\n",
    "    return dudy\n",
    "end"
   ]
  },
  {
   "cell_type": "code",
   "execution_count": 35,
   "metadata": {},
   "outputs": [
    {
     "ename": "MethodError",
     "evalue": "MethodError: no method matching DerivX_2D(::Array{Float64,2}, ::Int64, ::Int64)\nClosest candidates are:\n  DerivX_2D(::Array{Float64,2}, !Matched::Params2D) at In[29]:2",
     "output_type": "error",
     "traceback": [
      "MethodError: no method matching DerivX_2D(::Array{Float64,2}, ::Int64, ::Int64)\nClosest candidates are:\n  DerivX_2D(::Array{Float64,2}, !Matched::Params2D) at In[29]:2",
      "",
      "Stacktrace:",
      " [1] top-level scope at In[35]:11"
     ]
    }
   ],
   "source": [
    "Hx = []\n",
    "Ex = []\n",
    "Hy = []\n",
    "Ey = []\n",
    "\n",
    "for Nx in 50:100, Ny in 50:100\n",
    "    u = functionOn_2DGrid((x,y)->sin(pi*x)*cos(pi*y),Nx,Ny)\n",
    "    #analytical derivatives\n",
    "    dUdx = functionOn_2DGrid((x,y)->pi*cos(pi*x)*cos(pi*y),Nx,Ny)\n",
    "    dUdy = functionOn_2DGrid((x,y)->sin(pi*x)*(-pi)*sin(pi*y),Nx,Ny)\n",
    "    errorx = maximum(abs.(DerivX_2D(u,Nx,Ny)-dUdx))\n",
    "    errory = maximum(abs.(DerivY_2D(u,Nx,Ny)-dUdy))\n",
    "    hx = 2/(Nx-1)\n",
    "    hy = 2/(Ny-1)\n",
    "    append!(Hx,hx)\n",
    "    append!(Ex,errorx)\n",
    "    append!(Hy,hy)\n",
    "    append!(Ey,errory)\n",
    "end\n",
    "\n",
    "loglog(Hx,Ex,\"r-\")\n",
    "#loglog(Hy,Ey,\"b-\")\n",
    "loglog(Hx,Hx.^2,\"--\", label=\"2\")\n",
    "loglog(Hx,Hx,\"--\",label=\"1\")\n",
    "xlabel(\"hx\")\n",
    "ylabel(\"L Infinity Norm\")\n",
    "legend(loc=\"best\", frameon=false)\n",
    "show()"
   ]
  },
  {
   "cell_type": "code",
   "execution_count": null,
   "metadata": {},
   "outputs": [],
   "source": []
  }
 ],
 "metadata": {
  "kernelspec": {
   "display_name": "Julia 1.4.1",
   "language": "julia",
   "name": "julia-1.4"
  },
  "language_info": {
   "file_extension": ".jl",
   "mimetype": "application/julia",
   "name": "julia",
   "version": "1.4.1"
  }
 },
 "nbformat": 4,
 "nbformat_minor": 4
}
