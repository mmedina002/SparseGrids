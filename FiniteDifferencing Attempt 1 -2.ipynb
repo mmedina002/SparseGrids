{
 "cells": [
  {
   "cell_type": "code",
   "execution_count": 2,
   "metadata": {},
   "outputs": [
    {
     "name": "stderr",
     "output_type": "stream",
     "text": [
      "\u001b[32m\u001b[1m   Updating\u001b[22m\u001b[39m registry at `~/.julia/registries/General`\n"
     ]
    },
    {
     "name": "stdout",
     "output_type": "stream",
     "text": [
      "\u001b[?25l    "
     ]
    },
    {
     "name": "stderr",
     "output_type": "stream",
     "text": [
      "\u001b[32m\u001b[1m   Updating\u001b[22m\u001b[39m git-repo `https://github.com/JuliaRegistries/General.git`\n"
     ]
    },
    {
     "name": "stdout",
     "output_type": "stream",
     "text": [
      "    \u001b[36m\u001b[1mFetching:\u001b[22m\u001b[39m [======================>                  \u001b[2K\u001b[?25h[1mFetching:\u001b[22m\u001b[39m [========================================>]  100.0 %"
     ]
    },
    {
     "name": "stderr",
     "output_type": "stream",
     "text": [
      "\u001b[32m\u001b[1m  Resolving\u001b[22m\u001b[39m package versions...\n",
      "\u001b[32m\u001b[1m   Updating\u001b[22m\u001b[39m `~/.julia/environments/v1.4/Project.toml`\n",
      "\u001b[90m [no changes]\u001b[39m\n",
      "\u001b[32m\u001b[1m   Updating\u001b[22m\u001b[39m `~/.julia/environments/v1.4/Manifest.toml`\n",
      "\u001b[90m [no changes]\u001b[39m\n"
     ]
    }
   ],
   "source": [
    "]add PyPlot"
   ]
  },
  {
   "cell_type": "code",
   "execution_count": 4,
   "metadata": {},
   "outputs": [],
   "source": [
    "using PyPlot"
   ]
  },
  {
   "cell_type": "code",
   "execution_count": 5,
   "metadata": {},
   "outputs": [
    {
     "data": {
      "text/plain": [
       "10"
      ]
     },
     "execution_count": 5,
     "metadata": {},
     "output_type": "execute_result"
    }
   ],
   "source": [
    "N = 10"
   ]
  },
  {
   "cell_type": "code",
   "execution_count": 6,
   "metadata": {},
   "outputs": [
    {
     "data": {
      "text/plain": [
       "10-element Array{Float64,1}:\n",
       " 0.0\n",
       " 0.6283185307179586\n",
       " 1.2566370614359172\n",
       " 1.8849555921538759\n",
       " 2.5132741228718345\n",
       " 3.141592653589793\n",
       " 3.7699111843077517\n",
       " 4.39822971502571\n",
       " 5.026548245743669\n",
       " 5.654866776461628"
      ]
     },
     "execution_count": 6,
     "metadata": {},
     "output_type": "execute_result"
    }
   ],
   "source": [
    "x = [(i-1)*(2pi/N) for i in 1:N]"
   ]
  },
  {
   "cell_type": "code",
   "execution_count": 7,
   "metadata": {},
   "outputs": [
    {
     "data": {
      "text/plain": [
       "10-element Array{Float64,1}:\n",
       " 0.0\n",
       " 0.6283185307179586\n",
       " 1.2566370614359172\n",
       " 1.8849555921538759\n",
       " 2.5132741228718345\n",
       " 3.141592653589793\n",
       " 3.7699111843077517\n",
       " 4.39822971502571\n",
       " 5.026548245743669\n",
       " 5.654866776461628"
      ]
     },
     "execution_count": 7,
     "metadata": {},
     "output_type": "execute_result"
    }
   ],
   "source": [
    "y = [(j-1)*(2pi/N) for j in 1:N]"
   ]
  },
  {
   "cell_type": "code",
   "execution_count": 8,
   "metadata": {},
   "outputs": [
    {
     "data": {
      "text/plain": [
       "10-element Array{Float64,1}:\n",
       "  0.0\n",
       "  0.5877852522924731\n",
       "  0.9510565162951535\n",
       "  0.9510565162951536\n",
       "  0.5877852522924732\n",
       "  1.2246467991473532e-16\n",
       " -0.587785252292473\n",
       " -0.9510565162951535\n",
       " -0.9510565162951536\n",
       " -0.5877852522924734"
      ]
     },
     "execution_count": 8,
     "metadata": {},
     "output_type": "execute_result"
    }
   ],
   "source": [
    "sinx = sin.(x)"
   ]
  },
  {
   "cell_type": "code",
   "execution_count": 9,
   "metadata": {},
   "outputs": [
    {
     "data": {
      "text/plain": [
       "10-element Array{Float64,1}:\n",
       "  1.0\n",
       "  0.8090169943749475\n",
       "  0.30901699437494745\n",
       " -0.30901699437494734\n",
       " -0.8090169943749473\n",
       " -1.0\n",
       " -0.8090169943749475\n",
       " -0.30901699437494756\n",
       "  0.30901699437494723\n",
       "  0.8090169943749473"
      ]
     },
     "execution_count": 9,
     "metadata": {},
     "output_type": "execute_result"
    }
   ],
   "source": [
    "cosy = cos.(y)"
   ]
  },
  {
   "cell_type": "code",
   "execution_count": 10,
   "metadata": {},
   "outputs": [
    {
     "data": {
      "text/plain": [
       "10-element Array{Float64,1}:\n",
       "  1.0\n",
       "  1.3968022466674206\n",
       "  1.260073510670101\n",
       "  0.6420395219202063\n",
       " -0.2212317420824741\n",
       " -0.9999999999999999\n",
       " -1.3968022466674204\n",
       " -1.260073510670101\n",
       " -0.6420395219202064\n",
       "  0.22123174208247398"
      ]
     },
     "execution_count": 10,
     "metadata": {},
     "output_type": "execute_result"
    }
   ],
   "source": [
    "z=sinx+cosy"
   ]
  },
  {
   "cell_type": "code",
   "execution_count": 11,
   "metadata": {},
   "outputs": [
    {
     "data": {
      "text/plain": [
       "10-element Array{Float64,1}:\n",
       "  0.0\n",
       "  0.3947841760435743\n",
       "  1.5791367041742972\n",
       "  3.553057584392169\n",
       "  6.316546816697189\n",
       "  9.869604401089358\n",
       " 14.212230337568675\n",
       " 19.34442462613514\n",
       " 25.266187266788755\n",
       " 31.977518259529518"
      ]
     },
     "execution_count": 11,
     "metadata": {},
     "output_type": "execute_result"
    }
   ],
   "source": [
    "U=x.*y"
   ]
  },
  {
   "cell_type": "code",
   "execution_count": 12,
   "metadata": {},
   "outputs": [
    {
     "data": {
      "text/plain": [
       "secondDerivative (generic function with 1 method)"
      ]
     },
     "execution_count": 12,
     "metadata": {},
     "output_type": "execute_result"
    }
   ],
   "source": [
    "function secondDerivative(f::Function,x::Number,h::Number)::Number\n",
    "    return (1/h^2)*(f(x+h)-2f(x)+f(x-h))\n",
    "end"
   ]
  },
  {
   "cell_type": "code",
   "execution_count": 13,
   "metadata": {},
   "outputs": [
    {
     "data": {
      "text/plain": [
       "10-element Array{Float64,1}:\n",
       "  0.0\n",
       " -0.5687005759445941\n",
       " -0.9201768612999934\n",
       " -0.9201768612999937\n",
       " -0.5687005759445938\n",
       "  0.0\n",
       "  0.5687005759445938\n",
       "  0.9201768612999937\n",
       "  0.9201768612999937\n",
       "  0.5687005759445943"
      ]
     },
     "execution_count": 13,
     "metadata": {},
     "output_type": "execute_result"
    }
   ],
   "source": [
    "NegSinx=[secondDerivative(sin,x_i,2pi/N) for x_i in x]"
   ]
  },
  {
   "cell_type": "code",
   "execution_count": 14,
   "metadata": {},
   "outputs": [
    {
     "data": {
      "image/png": "[encoded data removed]",
      "text/plain": [
       "Figure(PyObject <Figure size 640x480 with 1 Axes>)"
      ]
     },
     "metadata": {},
     "output_type": "display_data"
    },
    {
     "data": {
      "text/plain": [
       "1-element Array{PyCall.PyObject,1}:\n",
       " PyObject <matplotlib.lines.Line2D object at 0x149c349d0>"
      ]
     },
     "execution_count": 14,
     "metadata": {},
     "output_type": "execute_result"
    }
   ],
   "source": [
    "plot(x,NegSinx,\"r-o\")\n",
    "plot(x,-1*sin.(x))"
   ]
  },
  {
   "cell_type": "code",
   "execution_count": 15,
   "metadata": {},
   "outputs": [
    {
     "data": {
      "text/plain": [
       "dudx (generic function with 1 method)"
      ]
     },
     "execution_count": 15,
     "metadata": {},
     "output_type": "execute_result"
    }
   ],
   "source": [
    "function dudx(u::Array, i::Int, j::Int)\n",
    "    # You might need to be carefull at the boundaries and use if statements \n",
    "    # so that i+1 and i-1 don't go out of bounds\n",
    "    h=2pi/N\n",
    "    if i==1 \n",
    "        du = (u[i+1,j]-u[i,j])/h\n",
    "    elseif i==N\n",
    "        du = (u[i,j]-u[i-1,j])/h\n",
    "    else\n",
    "        du = u[i+1,j]-u[i-1,j]/(2h)\n",
    "    end\n",
    "    return du\n",
    "end\n",
    "    "
   ]
  },
  {
   "cell_type": "code",
   "execution_count": 16,
   "metadata": {},
   "outputs": [
    {
     "data": {
      "text/plain": [
       "dudy (generic function with 1 method)"
      ]
     },
     "execution_count": 16,
     "metadata": {},
     "output_type": "execute_result"
    }
   ],
   "source": [
    "function dudy(u::Array,i::Int,j::Int)\n",
    "    h=2pi/N\n",
    "    if j==1 \n",
    "        du = (u[i,j+1]-u[i,j])/h\n",
    "    elseif j==N\n",
    "        du = (u[i,j]-u[i,j-1])/h\n",
    "    else\n",
    "        du = u[i,j+1]-u[i,j-1]/(2h)\n",
    "    end    \n",
    "    return du\n",
    "\n",
    "end"
   ]
  },
  {
   "cell_type": "code",
   "execution_count": 17,
   "metadata": {},
   "outputs": [
    {
     "ename": "BoundsError",
     "evalue": "BoundsError: attempt to access 10-element Array{Float64,1} at index [1, 2]",
     "output_type": "error",
     "traceback": [
      "BoundsError: attempt to access 10-element Array{Float64,1} at index [1, 2]",
      "",
      "Stacktrace:",
      " [1] getindex at ./array.jl:789 [inlined]",
      " [2] dudy(::Array{Float64,1}, ::Int64, ::Int64) at ./In[16]:4",
      " [3] top-level scope at ./In[17]:3"
     ]
    }
   ],
   "source": [
    "for i in 1:N\n",
    "    for j in 1:N\n",
    "    U[i,j]=dudx(U,i,j)+ dudy(U,i,j)\n",
    "    end\n",
    "    \n",
    "end"
   ]
  },
  {
   "cell_type": "code",
   "execution_count": 18,
   "metadata": {},
   "outputs": [
    {
     "ename": "BoundsError",
     "evalue": "BoundsError: attempt to access 10-element Array{Float64,1} at index [1, 2]",
     "output_type": "error",
     "traceback": [
      "BoundsError: attempt to access 10-element Array{Float64,1} at index [1, 2]",
      "",
      "Stacktrace:",
      " [1] getindex at ./array.jl:789 [inlined]",
      " [2] dudy(::Array{Float64,1}, ::Int64, ::Int64) at ./In[16]:4",
      " [3] top-level scope at ./In[18]:6"
     ]
    }
   ],
   "source": [
    "dsindx=zeros(N)\n",
    "dcosdy=zeros(N)\n",
    "for i in 1:N\n",
    "    for j in 1:N\n",
    "        dsindx[i,j]=dudx(sinx,i,j)\n",
    "        dcosdx[i,j]=dudy(cosy,i,j)\n",
    "    end\n",
    "end"
   ]
  },
  {
   "cell_type": "code",
   "execution_count": null,
   "metadata": {},
   "outputs": [],
   "source": []
  }
 ],
 "metadata": {
  "kernelspec": {
   "display_name": "Julia 1.4.1",
   "language": "julia",
   "name": "julia-1.4"
  },
  "language_info": {
   "file_extension": ".jl",
   "mimetype": "application/julia",
   "name": "julia",
   "version": "1.4.1"
  }
 },
 "nbformat": 4,
 "nbformat_minor": 4
}
